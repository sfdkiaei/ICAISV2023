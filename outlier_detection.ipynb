{
 "cells": [
  {
   "cell_type": "code",
   "execution_count": 1,
   "metadata": {
    "ExecuteTime": {
     "end_time": "2022-09-01T11:04:30.938464Z",
     "start_time": "2022-09-01T11:04:26.080697Z"
    }
   },
   "outputs": [],
   "source": [
    "from pyod.models.ecod import ECOD  # ECOD detector\n",
    "from pyod.models.knn import KNN   # kNN detector\n",
    "from joblib import dump, load\n",
    "from pyod.utils.data import evaluate_print\n",
    "from pyod.utils.example import visualize\n",
    "from loader import Loader\n",
    "import os"
   ]
  },
  {
   "cell_type": "code",
   "execution_count": 2,
   "metadata": {
    "ExecuteTime": {
     "end_time": "2022-09-01T11:04:30.979645Z",
     "start_time": "2022-09-01T11:04:30.963959Z"
    }
   },
   "outputs": [],
   "source": [
    "clf_name = \"KNN\"\n",
    "# clf = ECOD()\n",
    "clf = KNN()\n"
   ]
  },
  {
   "cell_type": "markdown",
   "metadata": {},
   "source": [
    "## Data Loading and Pre-Processing"
   ]
  },
  {
   "cell_type": "code",
   "execution_count": 3,
   "metadata": {
    "ExecuteTime": {
     "end_time": "2022-09-01T11:04:33.946076Z",
     "start_time": "2022-09-01T11:04:33.872387Z"
    }
   },
   "outputs": [],
   "source": [
    "loader = Loader()\n",
    "if not os.path.exists(\"data/data.pkl\"):\n",
    "    loader.extract()\n",
    "    df = loader.create_df_from_xlsx()\n",
    "    df = loader.process_df(df)\n",
    "    loader.save_df(df)\n",
    "else:\n",
    "    df = loader.load_df()\n"
   ]
  },
  {
   "cell_type": "code",
   "execution_count": 4,
   "metadata": {
    "ExecuteTime": {
     "end_time": "2022-09-01T11:04:36.897673Z",
     "start_time": "2022-09-01T11:04:36.836630Z"
    },
    "scrolled": true
   },
   "outputs": [
    {
     "name": "stdout",
     "output_type": "stream",
     "text": [
      "(15232, 19)\n",
      "Index(['کد محور', 'مدت زمان کارکرد (دقیقه)', 'تعداد کل وسیله نقلیه',\n",
      "       'تعداد وسیله نقلیه سبک', 'تعداد وسیله نقلیه سنگین', 'سرعت متوسط',\n",
      "       'تعداد تخلف سرعت غیر مجاز', 'تعداد تخلف فاصله غیر مجاز',\n",
      "       'تعداد تخلف سبقت غیر مجاز', 'تعداد وسیله نقلیه کلاس ۱',\n",
      "       'تعداد وسیله نقلیه کلاس ۲', 'تعداد وسیله نقلیه کلاس ۳',\n",
      "       'تعداد وسیله نقلیه کلاس ۴', 'تعداد وسیله نقلیه کلاس ۵',\n",
      "       'تعداد برآورد شده', 'holiday', 'date', 'day_of_week', 'time_start'],\n",
      "      dtype='object')\n",
      "<class 'pandas.core.frame.DataFrame'>\n",
      "Int64Index: 15232 entries, 0 to 30\n",
      "Data columns (total 19 columns):\n",
      " #   Column                     Non-Null Count  Dtype  \n",
      "---  ------                     --------------  -----  \n",
      " 0   کد محور                    15232 non-null  int64  \n",
      " 1   مدت زمان کارکرد (دقیقه)    15232 non-null  int64  \n",
      " 2   تعداد کل وسیله نقلیه       15232 non-null  int64  \n",
      " 3   تعداد وسیله نقلیه سبک      500 non-null    float64\n",
      " 4   تعداد وسیله نقلیه سنگین    500 non-null    float64\n",
      " 5   سرعت متوسط                 15232 non-null  float64\n",
      " 6   تعداد تخلف سرعت غیر مجاز   15232 non-null  int64  \n",
      " 7   تعداد تخلف فاصله غیر مجاز  15232 non-null  int64  \n",
      " 8   تعداد تخلف سبقت غیر مجاز   15232 non-null  int64  \n",
      " 9   تعداد وسیله نقلیه کلاس ۱   14732 non-null  float64\n",
      " 10  تعداد وسیله نقلیه کلاس ۲   14732 non-null  float64\n",
      " 11  تعداد وسیله نقلیه کلاس ۳   14732 non-null  float64\n",
      " 12  تعداد وسیله نقلیه کلاس ۴   14732 non-null  float64\n",
      " 13  تعداد وسیله نقلیه کلاس ۵   14732 non-null  float64\n",
      " 14  تعداد برآورد شده           6998 non-null   float64\n",
      " 15  holiday                    15232 non-null  object \n",
      " 16  date                       15232 non-null  object \n",
      " 17  day_of_week                15232 non-null  object \n",
      " 18  time_start                 15232 non-null  object \n",
      "dtypes: float64(9), int64(6), object(4)\n",
      "memory usage: 2.3+ MB\n",
      "None\n"
     ]
    }
   ],
   "source": [
    "print(df.shape)\n",
    "print(df.columns)\n",
    "print(df.info())"
   ]
  },
  {
   "cell_type": "code",
   "execution_count": 5,
   "metadata": {
    "ExecuteTime": {
     "end_time": "2022-09-01T11:06:54.648134Z",
     "start_time": "2022-09-01T11:06:54.607862Z"
    }
   },
   "outputs": [
    {
     "name": "stdout",
     "output_type": "stream",
     "text": [
      "<class 'pandas.core.frame.DataFrame'>\n",
      "Int64Index: 15232 entries, 0 to 30\n",
      "Data columns (total 16 columns):\n",
      " #   Column                     Non-Null Count  Dtype  \n",
      "---  ------                     --------------  -----  \n",
      " 0   کد محور                    15232 non-null  int64  \n",
      " 1   مدت زمان کارکرد (دقیقه)    15232 non-null  int64  \n",
      " 2   تعداد کل وسیله نقلیه       15232 non-null  int64  \n",
      " 3   سرعت متوسط                 15232 non-null  float64\n",
      " 4   تعداد تخلف سرعت غیر مجاز   15232 non-null  int64  \n",
      " 5   تعداد تخلف فاصله غیر مجاز  15232 non-null  int64  \n",
      " 6   تعداد تخلف سبقت غیر مجاز   15232 non-null  int64  \n",
      " 7   تعداد وسیله نقلیه کلاس ۱   14732 non-null  float64\n",
      " 8   تعداد وسیله نقلیه کلاس ۲   14732 non-null  float64\n",
      " 9   تعداد وسیله نقلیه کلاس ۳   14732 non-null  float64\n",
      " 10  تعداد وسیله نقلیه کلاس ۴   14732 non-null  float64\n",
      " 11  تعداد وسیله نقلیه کلاس ۵   14732 non-null  float64\n",
      " 12  holiday                    15232 non-null  object \n",
      " 13  date                       15232 non-null  object \n",
      " 14  day_of_week                15232 non-null  object \n",
      " 15  time_start                 15232 non-null  object \n",
      "dtypes: float64(6), int64(6), object(4)\n",
      "memory usage: 2.0+ MB\n"
     ]
    }
   ],
   "source": [
    "df.drop(columns=['تعداد وسیله نقلیه سنگین','تعداد وسیله نقلیه سبک','تعداد برآورد شده']).info()"
   ]
  },
  {
   "cell_type": "code",
   "execution_count": 6,
   "metadata": {
    "ExecuteTime": {
     "end_time": "2022-09-01T11:07:30.229596Z",
     "start_time": "2022-09-01T11:07:30.220232Z"
    }
   },
   "outputs": [],
   "source": [
    "df = df.drop(columns=['تعداد وسیله نقلیه سنگین','تعداد وسیله نقلیه سبک','تعداد برآورد شده'])"
   ]
  },
  {
   "cell_type": "code",
   "execution_count": 8,
   "metadata": {
    "ExecuteTime": {
     "end_time": "2022-09-01T11:13:02.052631Z",
     "start_time": "2022-09-01T11:13:01.997474Z"
    },
    "scrolled": true
   },
   "outputs": [
    {
     "name": "stdout",
     "output_type": "stream",
     "text": [
      "<class 'pandas.core.frame.DataFrame'>\n",
      "Int64Index: 14732 entries, 0 to 30\n",
      "Data columns (total 16 columns):\n",
      " #   Column                     Non-Null Count  Dtype  \n",
      "---  ------                     --------------  -----  \n",
      " 0   کد محور                    14732 non-null  int64  \n",
      " 1   مدت زمان کارکرد (دقیقه)    14732 non-null  int64  \n",
      " 2   تعداد کل وسیله نقلیه       14732 non-null  int64  \n",
      " 3   سرعت متوسط                 14732 non-null  float64\n",
      " 4   تعداد تخلف سرعت غیر مجاز   14732 non-null  int64  \n",
      " 5   تعداد تخلف فاصله غیر مجاز  14732 non-null  int64  \n",
      " 6   تعداد تخلف سبقت غیر مجاز   14732 non-null  int64  \n",
      " 7   تعداد وسیله نقلیه کلاس ۱   14732 non-null  float64\n",
      " 8   تعداد وسیله نقلیه کلاس ۲   14732 non-null  float64\n",
      " 9   تعداد وسیله نقلیه کلاس ۳   14732 non-null  float64\n",
      " 10  تعداد وسیله نقلیه کلاس ۴   14732 non-null  float64\n",
      " 11  تعداد وسیله نقلیه کلاس ۵   14732 non-null  float64\n",
      " 12  holiday                    14732 non-null  object \n",
      " 13  date                       14732 non-null  object \n",
      " 14  day_of_week                14732 non-null  object \n",
      " 15  time_start                 14732 non-null  object \n",
      "dtypes: float64(6), int64(6), object(4)\n",
      "memory usage: 1.9+ MB\n"
     ]
    }
   ],
   "source": [
    "df.dropna().info()"
   ]
  },
  {
   "cell_type": "code",
   "execution_count": 9,
   "metadata": {
    "ExecuteTime": {
     "end_time": "2022-09-01T11:13:29.931338Z",
     "start_time": "2022-09-01T11:13:29.912433Z"
    }
   },
   "outputs": [],
   "source": [
    "df = df.dropna()"
   ]
  },
  {
   "cell_type": "code",
   "execution_count": 11,
   "metadata": {
    "ExecuteTime": {
     "end_time": "2022-09-01T11:13:38.981913Z",
     "start_time": "2022-09-01T11:13:38.948601Z"
    }
   },
   "outputs": [
    {
     "data": {
      "text/html": [
       "<div>\n",
       "<style scoped>\n",
       "    .dataframe tbody tr th:only-of-type {\n",
       "        vertical-align: middle;\n",
       "    }\n",
       "\n",
       "    .dataframe tbody tr th {\n",
       "        vertical-align: top;\n",
       "    }\n",
       "\n",
       "    .dataframe thead th {\n",
       "        text-align: right;\n",
       "    }\n",
       "</style>\n",
       "<table border=\"1\" class=\"dataframe\">\n",
       "  <thead>\n",
       "    <tr style=\"text-align: right;\">\n",
       "      <th></th>\n",
       "      <th>کد محور</th>\n",
       "      <th>مدت زمان کارکرد (دقیقه)</th>\n",
       "      <th>تعداد کل وسیله نقلیه</th>\n",
       "      <th>سرعت متوسط</th>\n",
       "      <th>تعداد تخلف سرعت غیر مجاز</th>\n",
       "      <th>تعداد تخلف فاصله غیر مجاز</th>\n",
       "      <th>تعداد تخلف سبقت غیر مجاز</th>\n",
       "      <th>تعداد وسیله نقلیه کلاس ۱</th>\n",
       "      <th>تعداد وسیله نقلیه کلاس ۲</th>\n",
       "      <th>تعداد وسیله نقلیه کلاس ۳</th>\n",
       "      <th>تعداد وسیله نقلیه کلاس ۴</th>\n",
       "      <th>تعداد وسیله نقلیه کلاس ۵</th>\n",
       "      <th>holiday</th>\n",
       "      <th>date</th>\n",
       "      <th>day_of_week</th>\n",
       "      <th>time_start</th>\n",
       "    </tr>\n",
       "  </thead>\n",
       "  <tbody>\n",
       "    <tr>\n",
       "      <th>0</th>\n",
       "      <td>113401</td>\n",
       "      <td>1440</td>\n",
       "      <td>2160</td>\n",
       "      <td>65.0</td>\n",
       "      <td>22</td>\n",
       "      <td>456</td>\n",
       "      <td>109</td>\n",
       "      <td>2122.0</td>\n",
       "      <td>25.0</td>\n",
       "      <td>5.0</td>\n",
       "      <td>5.0</td>\n",
       "      <td>3.0</td>\n",
       "      <td>True</td>\n",
       "      <td>1395-01-01</td>\n",
       "      <td>1</td>\n",
       "      <td>00:00:00</td>\n",
       "    </tr>\n",
       "    <tr>\n",
       "      <th>1</th>\n",
       "      <td>113401</td>\n",
       "      <td>1360</td>\n",
       "      <td>2069</td>\n",
       "      <td>60.0</td>\n",
       "      <td>5</td>\n",
       "      <td>380</td>\n",
       "      <td>96</td>\n",
       "      <td>2014.0</td>\n",
       "      <td>43.0</td>\n",
       "      <td>5.0</td>\n",
       "      <td>2.0</td>\n",
       "      <td>5.0</td>\n",
       "      <td>True</td>\n",
       "      <td>1395-01-02</td>\n",
       "      <td>2</td>\n",
       "      <td>00:00:00</td>\n",
       "    </tr>\n",
       "    <tr>\n",
       "      <th>2</th>\n",
       "      <td>113401</td>\n",
       "      <td>1440</td>\n",
       "      <td>2419</td>\n",
       "      <td>63.0</td>\n",
       "      <td>7</td>\n",
       "      <td>475</td>\n",
       "      <td>102</td>\n",
       "      <td>2333.0</td>\n",
       "      <td>80.0</td>\n",
       "      <td>4.0</td>\n",
       "      <td>2.0</td>\n",
       "      <td>0.0</td>\n",
       "      <td>True</td>\n",
       "      <td>1395-01-03</td>\n",
       "      <td>3</td>\n",
       "      <td>00:00:00</td>\n",
       "    </tr>\n",
       "    <tr>\n",
       "      <th>3</th>\n",
       "      <td>113401</td>\n",
       "      <td>1440</td>\n",
       "      <td>2624</td>\n",
       "      <td>63.0</td>\n",
       "      <td>2</td>\n",
       "      <td>580</td>\n",
       "      <td>88</td>\n",
       "      <td>2569.0</td>\n",
       "      <td>42.0</td>\n",
       "      <td>6.0</td>\n",
       "      <td>2.0</td>\n",
       "      <td>5.0</td>\n",
       "      <td>True</td>\n",
       "      <td>1395-01-04</td>\n",
       "      <td>4</td>\n",
       "      <td>00:00:00</td>\n",
       "    </tr>\n",
       "    <tr>\n",
       "      <th>11</th>\n",
       "      <td>113401</td>\n",
       "      <td>1440</td>\n",
       "      <td>3799</td>\n",
       "      <td>61.0</td>\n",
       "      <td>6</td>\n",
       "      <td>1082</td>\n",
       "      <td>156</td>\n",
       "      <td>3698.0</td>\n",
       "      <td>90.0</td>\n",
       "      <td>5.0</td>\n",
       "      <td>4.0</td>\n",
       "      <td>2.0</td>\n",
       "      <td>True</td>\n",
       "      <td>1395-01-12</td>\n",
       "      <td>5</td>\n",
       "      <td>00:00:00</td>\n",
       "    </tr>\n",
       "  </tbody>\n",
       "</table>\n",
       "</div>"
      ],
      "text/plain": [
       "    کد محور  مدت زمان کارکرد (دقیقه)  تعداد کل وسیله نقلیه  سرعت متوسط  \\\n",
       "0    113401                     1440                  2160        65.0   \n",
       "1    113401                     1360                  2069        60.0   \n",
       "2    113401                     1440                  2419        63.0   \n",
       "3    113401                     1440                  2624        63.0   \n",
       "11   113401                     1440                  3799        61.0   \n",
       "\n",
       "    تعداد تخلف سرعت غیر مجاز  تعداد تخلف فاصله غیر مجاز  \\\n",
       "0                         22                        456   \n",
       "1                          5                        380   \n",
       "2                          7                        475   \n",
       "3                          2                        580   \n",
       "11                         6                       1082   \n",
       "\n",
       "    تعداد تخلف سبقت غیر مجاز  تعداد وسیله نقلیه کلاس ۱  \\\n",
       "0                        109                    2122.0   \n",
       "1                         96                    2014.0   \n",
       "2                        102                    2333.0   \n",
       "3                         88                    2569.0   \n",
       "11                       156                    3698.0   \n",
       "\n",
       "    تعداد وسیله نقلیه کلاس ۲  تعداد وسیله نقلیه کلاس ۳  \\\n",
       "0                       25.0                       5.0   \n",
       "1                       43.0                       5.0   \n",
       "2                       80.0                       4.0   \n",
       "3                       42.0                       6.0   \n",
       "11                      90.0                       5.0   \n",
       "\n",
       "    تعداد وسیله نقلیه کلاس ۴  تعداد وسیله نقلیه کلاس ۵ holiday        date  \\\n",
       "0                        5.0                       3.0    True  1395-01-01   \n",
       "1                        2.0                       5.0    True  1395-01-02   \n",
       "2                        2.0                       0.0    True  1395-01-03   \n",
       "3                        2.0                       5.0    True  1395-01-04   \n",
       "11                       4.0                       2.0    True  1395-01-12   \n",
       "\n",
       "   day_of_week time_start  \n",
       "0            1   00:00:00  \n",
       "1            2   00:00:00  \n",
       "2            3   00:00:00  \n",
       "3            4   00:00:00  \n",
       "11           5   00:00:00  "
      ]
     },
     "execution_count": 11,
     "metadata": {},
     "output_type": "execute_result"
    }
   ],
   "source": [
    "df[df[\"holiday\"] == True].head()"
   ]
  },
  {
   "cell_type": "markdown",
   "metadata": {},
   "source": [
    "## Some Plots"
   ]
  },
  {
   "cell_type": "code",
   "execution_count": 14,
   "metadata": {
    "ExecuteTime": {
     "end_time": "2022-09-01T11:15:54.887963Z",
     "start_time": "2022-09-01T11:15:54.878049Z"
    }
   },
   "outputs": [],
   "source": [
    "%matplotlib inline\n",
    "\n",
    "import matplotlib\n",
    "import numpy as np\n",
    "import matplotlib.pyplot as plt"
   ]
  },
  {
   "cell_type": "code",
   "execution_count": 18,
   "metadata": {
    "ExecuteTime": {
     "end_time": "2022-09-01T11:18:39.291451Z",
     "start_time": "2022-09-01T11:18:38.814204Z"
    }
   },
   "outputs": [
    {
     "data": {
      "text/html": [
       "<div>\n",
       "<style scoped>\n",
       "    .dataframe tbody tr th:only-of-type {\n",
       "        vertical-align: middle;\n",
       "    }\n",
       "\n",
       "    .dataframe tbody tr th {\n",
       "        vertical-align: top;\n",
       "    }\n",
       "\n",
       "    .dataframe thead th {\n",
       "        text-align: right;\n",
       "    }\n",
       "</style>\n",
       "<table border=\"1\" class=\"dataframe\">\n",
       "  <thead>\n",
       "    <tr style=\"text-align: right;\">\n",
       "      <th></th>\n",
       "      <th>کد محور</th>\n",
       "      <th>مدت زمان کارکرد (دقیقه)</th>\n",
       "      <th>تعداد کل وسیله نقلیه</th>\n",
       "      <th>سرعت متوسط</th>\n",
       "      <th>تعداد تخلف سرعت غیر مجاز</th>\n",
       "      <th>تعداد تخلف فاصله غیر مجاز</th>\n",
       "      <th>تعداد تخلف سبقت غیر مجاز</th>\n",
       "      <th>تعداد وسیله نقلیه کلاس ۱</th>\n",
       "      <th>تعداد وسیله نقلیه کلاس ۲</th>\n",
       "      <th>تعداد وسیله نقلیه کلاس ۳</th>\n",
       "      <th>تعداد وسیله نقلیه کلاس ۴</th>\n",
       "      <th>تعداد وسیله نقلیه کلاس ۵</th>\n",
       "      <th>holiday</th>\n",
       "      <th>date</th>\n",
       "      <th>day_of_week</th>\n",
       "      <th>time_start</th>\n",
       "    </tr>\n",
       "  </thead>\n",
       "  <tbody>\n",
       "    <tr>\n",
       "      <th>0</th>\n",
       "      <td>113401</td>\n",
       "      <td>1440</td>\n",
       "      <td>2160</td>\n",
       "      <td>65.00</td>\n",
       "      <td>22</td>\n",
       "      <td>456</td>\n",
       "      <td>109</td>\n",
       "      <td>2122.0</td>\n",
       "      <td>25.0</td>\n",
       "      <td>5.0</td>\n",
       "      <td>5.0</td>\n",
       "      <td>3.0</td>\n",
       "      <td>True</td>\n",
       "      <td>1395-01-01</td>\n",
       "      <td>1</td>\n",
       "      <td>00:00:00</td>\n",
       "    </tr>\n",
       "    <tr>\n",
       "      <th>0</th>\n",
       "      <td>113903</td>\n",
       "      <td>1440</td>\n",
       "      <td>24328</td>\n",
       "      <td>85.00</td>\n",
       "      <td>221</td>\n",
       "      <td>4687</td>\n",
       "      <td>0</td>\n",
       "      <td>23693.0</td>\n",
       "      <td>348.0</td>\n",
       "      <td>132.0</td>\n",
       "      <td>56.0</td>\n",
       "      <td>99.0</td>\n",
       "      <td>True</td>\n",
       "      <td>1395-01-01</td>\n",
       "      <td>1</td>\n",
       "      <td>00:00:00</td>\n",
       "    </tr>\n",
       "    <tr>\n",
       "      <th>0</th>\n",
       "      <td>114351</td>\n",
       "      <td>1435</td>\n",
       "      <td>8642</td>\n",
       "      <td>106.00</td>\n",
       "      <td>875</td>\n",
       "      <td>826</td>\n",
       "      <td>0</td>\n",
       "      <td>8341.0</td>\n",
       "      <td>193.0</td>\n",
       "      <td>19.0</td>\n",
       "      <td>15.0</td>\n",
       "      <td>74.0</td>\n",
       "      <td>True</td>\n",
       "      <td>1395-01-01</td>\n",
       "      <td>1</td>\n",
       "      <td>00:00:00</td>\n",
       "    </tr>\n",
       "    <tr>\n",
       "      <th>0</th>\n",
       "      <td>114206</td>\n",
       "      <td>465</td>\n",
       "      <td>4216</td>\n",
       "      <td>98.00</td>\n",
       "      <td>82</td>\n",
       "      <td>393</td>\n",
       "      <td>0</td>\n",
       "      <td>4155.0</td>\n",
       "      <td>50.0</td>\n",
       "      <td>10.0</td>\n",
       "      <td>1.0</td>\n",
       "      <td>0.0</td>\n",
       "      <td>True</td>\n",
       "      <td>1395-01-01</td>\n",
       "      <td>1</td>\n",
       "      <td>00:00:00</td>\n",
       "    </tr>\n",
       "    <tr>\n",
       "      <th>0</th>\n",
       "      <td>113211</td>\n",
       "      <td>1440</td>\n",
       "      <td>309</td>\n",
       "      <td>82.82</td>\n",
       "      <td>119</td>\n",
       "      <td>11</td>\n",
       "      <td>18</td>\n",
       "      <td>222.0</td>\n",
       "      <td>44.0</td>\n",
       "      <td>14.0</td>\n",
       "      <td>2.0</td>\n",
       "      <td>27.0</td>\n",
       "      <td>True</td>\n",
       "      <td>1395-01-01</td>\n",
       "      <td>1</td>\n",
       "      <td>00:00:00</td>\n",
       "    </tr>\n",
       "  </tbody>\n",
       "</table>\n",
       "</div>"
      ],
      "text/plain": [
       "   کد محور  مدت زمان کارکرد (دقیقه)  تعداد کل وسیله نقلیه  سرعت متوسط  \\\n",
       "0   113401                     1440                  2160       65.00   \n",
       "0   113903                     1440                 24328       85.00   \n",
       "0   114351                     1435                  8642      106.00   \n",
       "0   114206                      465                  4216       98.00   \n",
       "0   113211                     1440                   309       82.82   \n",
       "\n",
       "   تعداد تخلف سرعت غیر مجاز  تعداد تخلف فاصله غیر مجاز  \\\n",
       "0                        22                        456   \n",
       "0                       221                       4687   \n",
       "0                       875                        826   \n",
       "0                        82                        393   \n",
       "0                       119                         11   \n",
       "\n",
       "   تعداد تخلف سبقت غیر مجاز  تعداد وسیله نقلیه کلاس ۱  \\\n",
       "0                       109                    2122.0   \n",
       "0                         0                   23693.0   \n",
       "0                         0                    8341.0   \n",
       "0                         0                    4155.0   \n",
       "0                        18                     222.0   \n",
       "\n",
       "   تعداد وسیله نقلیه کلاس ۲  تعداد وسیله نقلیه کلاس ۳  \\\n",
       "0                      25.0                       5.0   \n",
       "0                     348.0                     132.0   \n",
       "0                     193.0                      19.0   \n",
       "0                      50.0                      10.0   \n",
       "0                      44.0                      14.0   \n",
       "\n",
       "   تعداد وسیله نقلیه کلاس ۴  تعداد وسیله نقلیه کلاس ۵ holiday        date  \\\n",
       "0                       5.0                       3.0    True  1395-01-01   \n",
       "0                      56.0                      99.0    True  1395-01-01   \n",
       "0                      15.0                      74.0    True  1395-01-01   \n",
       "0                       1.0                       0.0    True  1395-01-01   \n",
       "0                       2.0                      27.0    True  1395-01-01   \n",
       "\n",
       "  day_of_week time_start  \n",
       "0           1   00:00:00  \n",
       "0           1   00:00:00  \n",
       "0           1   00:00:00  \n",
       "0           1   00:00:00  \n",
       "0           1   00:00:00  "
      ]
     },
     "execution_count": 18,
     "metadata": {},
     "output_type": "execute_result"
    }
   ],
   "source": [
    "df.sort_values(by=['date'],inplace=True)\n",
    "df.head()"
   ]
  },
  {
   "cell_type": "code",
   "execution_count": 19,
   "metadata": {
    "ExecuteTime": {
     "end_time": "2022-09-01T11:18:49.927385Z",
     "start_time": "2022-09-01T11:18:49.887715Z"
    }
   },
   "outputs": [
    {
     "data": {
      "text/html": [
       "<div>\n",
       "<style scoped>\n",
       "    .dataframe tbody tr th:only-of-type {\n",
       "        vertical-align: middle;\n",
       "    }\n",
       "\n",
       "    .dataframe tbody tr th {\n",
       "        vertical-align: top;\n",
       "    }\n",
       "\n",
       "    .dataframe thead th {\n",
       "        text-align: right;\n",
       "    }\n",
       "</style>\n",
       "<table border=\"1\" class=\"dataframe\">\n",
       "  <thead>\n",
       "    <tr style=\"text-align: right;\">\n",
       "      <th></th>\n",
       "      <th>کد محور</th>\n",
       "      <th>مدت زمان کارکرد (دقیقه)</th>\n",
       "      <th>تعداد کل وسیله نقلیه</th>\n",
       "      <th>سرعت متوسط</th>\n",
       "      <th>تعداد تخلف سرعت غیر مجاز</th>\n",
       "      <th>تعداد تخلف فاصله غیر مجاز</th>\n",
       "      <th>تعداد تخلف سبقت غیر مجاز</th>\n",
       "      <th>تعداد وسیله نقلیه کلاس ۱</th>\n",
       "      <th>تعداد وسیله نقلیه کلاس ۲</th>\n",
       "      <th>تعداد وسیله نقلیه کلاس ۳</th>\n",
       "      <th>تعداد وسیله نقلیه کلاس ۴</th>\n",
       "      <th>تعداد وسیله نقلیه کلاس ۵</th>\n",
       "      <th>holiday</th>\n",
       "      <th>date</th>\n",
       "      <th>day_of_week</th>\n",
       "      <th>time_start</th>\n",
       "    </tr>\n",
       "  </thead>\n",
       "  <tbody>\n",
       "    <tr>\n",
       "      <th>30</th>\n",
       "      <td>114151</td>\n",
       "      <td>1440</td>\n",
       "      <td>16584</td>\n",
       "      <td>69.34</td>\n",
       "      <td>211</td>\n",
       "      <td>2863</td>\n",
       "      <td>0</td>\n",
       "      <td>11582.0</td>\n",
       "      <td>2316.0</td>\n",
       "      <td>636.0</td>\n",
       "      <td>259.0</td>\n",
       "      <td>1791.0</td>\n",
       "      <td>False</td>\n",
       "      <td>1395-01-31</td>\n",
       "      <td>3</td>\n",
       "      <td>00:00:00</td>\n",
       "    </tr>\n",
       "    <tr>\n",
       "      <th>30</th>\n",
       "      <td>113263</td>\n",
       "      <td>580</td>\n",
       "      <td>10254</td>\n",
       "      <td>87.00</td>\n",
       "      <td>174</td>\n",
       "      <td>2196</td>\n",
       "      <td>0</td>\n",
       "      <td>10163.0</td>\n",
       "      <td>53.0</td>\n",
       "      <td>28.0</td>\n",
       "      <td>4.0</td>\n",
       "      <td>6.0</td>\n",
       "      <td>False</td>\n",
       "      <td>1395-01-31</td>\n",
       "      <td>3</td>\n",
       "      <td>00:00:00</td>\n",
       "    </tr>\n",
       "    <tr>\n",
       "      <th>30</th>\n",
       "      <td>113251</td>\n",
       "      <td>1440</td>\n",
       "      <td>1585</td>\n",
       "      <td>91.63</td>\n",
       "      <td>44</td>\n",
       "      <td>22</td>\n",
       "      <td>47</td>\n",
       "      <td>812.0</td>\n",
       "      <td>146.0</td>\n",
       "      <td>213.0</td>\n",
       "      <td>146.0</td>\n",
       "      <td>268.0</td>\n",
       "      <td>False</td>\n",
       "      <td>1395-01-31</td>\n",
       "      <td>3</td>\n",
       "      <td>00:00:00</td>\n",
       "    </tr>\n",
       "    <tr>\n",
       "      <th>30</th>\n",
       "      <td>114152</td>\n",
       "      <td>1370</td>\n",
       "      <td>16646</td>\n",
       "      <td>68.00</td>\n",
       "      <td>3202</td>\n",
       "      <td>933</td>\n",
       "      <td>0</td>\n",
       "      <td>15581.0</td>\n",
       "      <td>647.0</td>\n",
       "      <td>128.0</td>\n",
       "      <td>163.0</td>\n",
       "      <td>127.0</td>\n",
       "      <td>False</td>\n",
       "      <td>1395-01-31</td>\n",
       "      <td>3</td>\n",
       "      <td>00:00:00</td>\n",
       "    </tr>\n",
       "    <tr>\n",
       "      <th>30</th>\n",
       "      <td>113264</td>\n",
       "      <td>1440</td>\n",
       "      <td>7188</td>\n",
       "      <td>70.45</td>\n",
       "      <td>40</td>\n",
       "      <td>459</td>\n",
       "      <td>0</td>\n",
       "      <td>7117.0</td>\n",
       "      <td>45.0</td>\n",
       "      <td>21.0</td>\n",
       "      <td>4.0</td>\n",
       "      <td>1.0</td>\n",
       "      <td>False</td>\n",
       "      <td>1395-01-31</td>\n",
       "      <td>3</td>\n",
       "      <td>00:00:00</td>\n",
       "    </tr>\n",
       "  </tbody>\n",
       "</table>\n",
       "</div>"
      ],
      "text/plain": [
       "    کد محور  مدت زمان کارکرد (دقیقه)  تعداد کل وسیله نقلیه  سرعت متوسط  \\\n",
       "30   114151                     1440                 16584       69.34   \n",
       "30   113263                      580                 10254       87.00   \n",
       "30   113251                     1440                  1585       91.63   \n",
       "30   114152                     1370                 16646       68.00   \n",
       "30   113264                     1440                  7188       70.45   \n",
       "\n",
       "    تعداد تخلف سرعت غیر مجاز  تعداد تخلف فاصله غیر مجاز  \\\n",
       "30                       211                       2863   \n",
       "30                       174                       2196   \n",
       "30                        44                         22   \n",
       "30                      3202                        933   \n",
       "30                        40                        459   \n",
       "\n",
       "    تعداد تخلف سبقت غیر مجاز  تعداد وسیله نقلیه کلاس ۱  \\\n",
       "30                         0                   11582.0   \n",
       "30                         0                   10163.0   \n",
       "30                        47                     812.0   \n",
       "30                         0                   15581.0   \n",
       "30                         0                    7117.0   \n",
       "\n",
       "    تعداد وسیله نقلیه کلاس ۲  تعداد وسیله نقلیه کلاس ۳  \\\n",
       "30                    2316.0                     636.0   \n",
       "30                      53.0                      28.0   \n",
       "30                     146.0                     213.0   \n",
       "30                     647.0                     128.0   \n",
       "30                      45.0                      21.0   \n",
       "\n",
       "    تعداد وسیله نقلیه کلاس ۴  تعداد وسیله نقلیه کلاس ۵ holiday        date  \\\n",
       "30                     259.0                    1791.0   False  1395-01-31   \n",
       "30                       4.0                       6.0   False  1395-01-31   \n",
       "30                     146.0                     268.0   False  1395-01-31   \n",
       "30                     163.0                     127.0   False  1395-01-31   \n",
       "30                       4.0                       1.0   False  1395-01-31   \n",
       "\n",
       "   day_of_week time_start  \n",
       "30           3   00:00:00  \n",
       "30           3   00:00:00  \n",
       "30           3   00:00:00  \n",
       "30           3   00:00:00  \n",
       "30           3   00:00:00  "
      ]
     },
     "execution_count": 19,
     "metadata": {},
     "output_type": "execute_result"
    }
   ],
   "source": [
    "df.tail()"
   ]
  },
  {
   "cell_type": "code",
   "execution_count": 20,
   "metadata": {
    "ExecuteTime": {
     "end_time": "2022-09-01T11:19:08.674790Z",
     "start_time": "2022-09-01T11:19:08.642045Z"
    }
   },
   "outputs": [
    {
     "name": "stdout",
     "output_type": "stream",
     "text": [
      "<class 'pandas.core.frame.DataFrame'>\n",
      "Int64Index: 14732 entries, 0 to 30\n",
      "Data columns (total 16 columns):\n",
      " #   Column                     Non-Null Count  Dtype  \n",
      "---  ------                     --------------  -----  \n",
      " 0   کد محور                    14732 non-null  int64  \n",
      " 1   مدت زمان کارکرد (دقیقه)    14732 non-null  int64  \n",
      " 2   تعداد کل وسیله نقلیه       14732 non-null  int64  \n",
      " 3   سرعت متوسط                 14732 non-null  float64\n",
      " 4   تعداد تخلف سرعت غیر مجاز   14732 non-null  int64  \n",
      " 5   تعداد تخلف فاصله غیر مجاز  14732 non-null  int64  \n",
      " 6   تعداد تخلف سبقت غیر مجاز   14732 non-null  int64  \n",
      " 7   تعداد وسیله نقلیه کلاس ۱   14732 non-null  float64\n",
      " 8   تعداد وسیله نقلیه کلاس ۲   14732 non-null  float64\n",
      " 9   تعداد وسیله نقلیه کلاس ۳   14732 non-null  float64\n",
      " 10  تعداد وسیله نقلیه کلاس ۴   14732 non-null  float64\n",
      " 11  تعداد وسیله نقلیه کلاس ۵   14732 non-null  float64\n",
      " 12  holiday                    14732 non-null  object \n",
      " 13  date                       14732 non-null  object \n",
      " 14  day_of_week                14732 non-null  object \n",
      " 15  time_start                 14732 non-null  object \n",
      "dtypes: float64(6), int64(6), object(4)\n",
      "memory usage: 1.9+ MB\n"
     ]
    }
   ],
   "source": [
    "df.info()"
   ]
  },
  {
   "cell_type": "code",
   "execution_count": 30,
   "metadata": {
    "ExecuteTime": {
     "end_time": "2022-09-01T11:24:37.209825Z",
     "start_time": "2022-09-01T11:24:37.038414Z"
    }
   },
   "outputs": [
    {
     "data": {
      "text/plain": [
       "date      \n",
       "1395-01-01    512\n",
       "1395-01-02    512\n",
       "1395-01-03    512\n",
       "1395-01-04    512\n",
       "1395-01-05    511\n",
       "1395-01-06    509\n",
       "1395-01-07    509\n",
       "1395-01-08    508\n",
       "1395-01-09    502\n",
       "1395-01-10    498\n",
       "1395-01-11    496\n",
       "1395-01-12    491\n",
       "1395-01-13    491\n",
       "1395-01-14    491\n",
       "1395-01-16    485\n",
       "1395-01-15    485\n",
       "1395-01-17    475\n",
       "1395-01-18    472\n",
       "1395-01-19    468\n",
       "1395-01-20    468\n",
       "1395-01-21    466\n",
       "1395-01-22    466\n",
       "1395-01-23    462\n",
       "1395-01-24    460\n",
       "1395-01-25    459\n",
       "1395-01-26    452\n",
       "1395-01-27    440\n",
       "1395-01-28    433\n",
       "1395-01-29    422\n",
       "1395-01-30    409\n",
       "1395-01-31    356\n",
       "dtype: int64"
      ]
     },
     "execution_count": 30,
     "metadata": {},
     "output_type": "execute_result"
    }
   ],
   "source": [
    "df[['date']].value_counts()"
   ]
  },
  {
   "cell_type": "code",
   "execution_count": 33,
   "metadata": {
    "ExecuteTime": {
     "end_time": "2022-09-01T11:29:30.392495Z",
     "start_time": "2022-09-01T11:29:30.383146Z"
    }
   },
   "outputs": [
    {
     "data": {
      "text/plain": [
       "Index(['کد محور', 'مدت زمان کارکرد (دقیقه)', 'تعداد کل وسیله نقلیه',\n",
       "       'سرعت متوسط', 'تعداد تخلف سرعت غیر مجاز', 'تعداد تخلف فاصله غیر مجاز',\n",
       "       'تعداد تخلف سبقت غیر مجاز', 'تعداد وسیله نقلیه کلاس ۱',\n",
       "       'تعداد وسیله نقلیه کلاس ۲', 'تعداد وسیله نقلیه کلاس ۳',\n",
       "       'تعداد وسیله نقلیه کلاس ۴', 'تعداد وسیله نقلیه کلاس ۵', 'holiday',\n",
       "       'date', 'day_of_week', 'time_start'],\n",
       "      dtype='object')"
      ]
     },
     "execution_count": 33,
     "metadata": {},
     "output_type": "execute_result"
    }
   ],
   "source": [
    "df.columns"
   ]
  },
  {
   "cell_type": "code",
   "execution_count": 40,
   "metadata": {
    "ExecuteTime": {
     "end_time": "2022-09-01T11:35:20.757832Z",
     "start_time": "2022-09-01T11:35:20.608137Z"
    }
   },
   "outputs": [],
   "source": [
    "per_code_dfs = {}\n",
    "for code in df['کد محور'].unique():\n",
    "    per_code_dfs[code] = df[df['کد محور']==code]"
   ]
  },
  {
   "cell_type": "code",
   "execution_count": 41,
   "metadata": {
    "ExecuteTime": {
     "end_time": "2022-09-01T11:35:27.039626Z",
     "start_time": "2022-09-01T11:35:27.030660Z"
    }
   },
   "outputs": [
    {
     "data": {
      "text/plain": [
       "dict_keys([113401, 113903, 114351, 114206, 113211, 113213, 113255, 114101, 113603, 113751, 113464, 113810, 113414, 113259, 113202, 113465, 113474, 114352, 113853, 113403, 113453, 113299, 113203, 114551, 113801, 113502, 113454, 113302, 113263, 114103, 113954, 113551, 113261, 114153, 113851, 113552, 113205, 113415, 113466, 113293, 114413, 113458, 113904, 114256, 114302, 113416, 113210, 113463, 113404, 113278, 113260, 113204, 113451, 113419, 113253, 113254, 113909, 113418, 113258, 114301, 113701, 113501, 113805, 114102, 113207, 113208, 113651, 113257, 114358, 113408, 114151, 114354, 113467, 113417, 113229, 113206, 114501, 113352, 113256, 113852, 113228, 114308, 114304, 113214, 113264, 114463, 114401, 114552, 113353, 113654, 113855, 113469, 113262, 113209, 113424, 113243, 113612, 113953, 113913, 113341, 113252, 113653, 113468, 113212, 114152, 113804, 113802, 114110, 113604, 113803, 113303, 113428, 113413, 113251, 113601, 114451, 113201, 113854, 113860, 113478, 113863, 113391, 113963, 114160, 113959, 114357, 113249, 114307, 114359, 113813, 113865, 114309, 113815])"
      ]
     },
     "execution_count": 41,
     "metadata": {},
     "output_type": "execute_result"
    }
   ],
   "source": [
    "per_code_dfs.keys()"
   ]
  },
  {
   "cell_type": "code",
   "execution_count": 42,
   "metadata": {
    "ExecuteTime": {
     "end_time": "2022-09-01T11:35:43.833508Z",
     "start_time": "2022-09-01T11:35:43.812348Z"
    }
   },
   "outputs": [
    {
     "name": "stdout",
     "output_type": "stream",
     "text": [
      "<class 'pandas.core.frame.DataFrame'>\n",
      "Int64Index: 124 entries, 0 to 30\n",
      "Data columns (total 16 columns):\n",
      " #   Column                     Non-Null Count  Dtype  \n",
      "---  ------                     --------------  -----  \n",
      " 0   کد محور                    124 non-null    int64  \n",
      " 1   مدت زمان کارکرد (دقیقه)    124 non-null    int64  \n",
      " 2   تعداد کل وسیله نقلیه       124 non-null    int64  \n",
      " 3   سرعت متوسط                 124 non-null    float64\n",
      " 4   تعداد تخلف سرعت غیر مجاز   124 non-null    int64  \n",
      " 5   تعداد تخلف فاصله غیر مجاز  124 non-null    int64  \n",
      " 6   تعداد تخلف سبقت غیر مجاز   124 non-null    int64  \n",
      " 7   تعداد وسیله نقلیه کلاس ۱   124 non-null    float64\n",
      " 8   تعداد وسیله نقلیه کلاس ۲   124 non-null    float64\n",
      " 9   تعداد وسیله نقلیه کلاس ۳   124 non-null    float64\n",
      " 10  تعداد وسیله نقلیه کلاس ۴   124 non-null    float64\n",
      " 11  تعداد وسیله نقلیه کلاس ۵   124 non-null    float64\n",
      " 12  holiday                    124 non-null    object \n",
      " 13  date                       124 non-null    object \n",
      " 14  day_of_week                124 non-null    object \n",
      " 15  time_start                 124 non-null    object \n",
      "dtypes: float64(6), int64(6), object(4)\n",
      "memory usage: 16.5+ KB\n"
     ]
    }
   ],
   "source": [
    "per_code_dfs[113401].info()"
   ]
  },
  {
   "cell_type": "code",
   "execution_count": 46,
   "metadata": {
    "ExecuteTime": {
     "end_time": "2022-09-01T11:36:44.888696Z",
     "start_time": "2022-09-01T11:36:44.877944Z"
    }
   },
   "outputs": [
    {
     "data": {
      "text/plain": [
       "array([jdatetime.date(1395, 1, 1), jdatetime.date(1395, 1, 2),\n",
       "       jdatetime.date(1395, 1, 3), jdatetime.date(1395, 1, 4),\n",
       "       jdatetime.date(1395, 1, 5), jdatetime.date(1395, 1, 6),\n",
       "       jdatetime.date(1395, 1, 7), jdatetime.date(1395, 1, 8),\n",
       "       jdatetime.date(1395, 1, 9), jdatetime.date(1395, 1, 10),\n",
       "       jdatetime.date(1395, 1, 11), jdatetime.date(1395, 1, 12),\n",
       "       jdatetime.date(1395, 1, 13), jdatetime.date(1395, 1, 14),\n",
       "       jdatetime.date(1395, 1, 15), jdatetime.date(1395, 1, 16),\n",
       "       jdatetime.date(1395, 1, 17), jdatetime.date(1395, 1, 18),\n",
       "       jdatetime.date(1395, 1, 19), jdatetime.date(1395, 1, 20),\n",
       "       jdatetime.date(1395, 1, 21), jdatetime.date(1395, 1, 22),\n",
       "       jdatetime.date(1395, 1, 23), jdatetime.date(1395, 1, 24),\n",
       "       jdatetime.date(1395, 1, 25), jdatetime.date(1395, 1, 26),\n",
       "       jdatetime.date(1395, 1, 27), jdatetime.date(1395, 1, 28),\n",
       "       jdatetime.date(1395, 1, 29), jdatetime.date(1395, 1, 30),\n",
       "       jdatetime.date(1395, 1, 31)], dtype=object)"
      ]
     },
     "execution_count": 46,
     "metadata": {},
     "output_type": "execute_result"
    }
   ],
   "source": [
    "per_code_dfs[113401]['date'].unique()"
   ]
  },
  {
   "cell_type": "code",
   "execution_count": null,
   "metadata": {},
   "outputs": [],
   "source": []
  },
  {
   "cell_type": "markdown",
   "metadata": {},
   "source": [
    "## Other :)"
   ]
  },
  {
   "cell_type": "code",
   "execution_count": null,
   "metadata": {},
   "outputs": [],
   "source": []
  },
  {
   "cell_type": "code",
   "execution_count": 31,
   "metadata": {},
   "outputs": [
    {
     "name": "stdout",
     "output_type": "stream",
     "text": [
      "['تهران - حسن آباد (جاده قديم قم)', 'حسن آباد - تهران (جاده قديم قم)', 'آبعلي - سه راهي مشاء', 'آزادراه تهران - کرج (عوارضي قديم)', 'فيروزکوه - دماوند']\n",
      "133\n"
     ]
    }
   ],
   "source": [
    "roads = loader.get_roads()\n",
    "print(list(roads.values())[:5])\n",
    "print(len(roads))"
   ]
  },
  {
   "cell_type": "code",
   "execution_count": null,
   "metadata": {},
   "outputs": [],
   "source": [
    "# TODO\n",
    "X_train = []"
   ]
  },
  {
   "cell_type": "code",
   "execution_count": null,
   "metadata": {},
   "outputs": [],
   "source": [
    "clf.fit(X_train)\n",
    "\n",
    "# get the prediction label and outlier scores of the training data\n",
    "y_train_pred = clf.labels_  # binary labels (0: inliers, 1: outliers)\n",
    "y_train_scores = clf.decision_scores_  # raw outlier scores\n",
    "\n",
    "# get the prediction on the test data\n",
    "y_test_pred = clf.predict(X_test)  # outlier labels (0 or 1)\n",
    "y_test_scores = clf.decision_function(X_test)  # outlier scores\n",
    "\n",
    "# it is possible to get the prediction confidence as well\n",
    "y_test_pred, y_test_pred_confidence = clf.predict(\n",
    "    X_test, return_confidence=True\n",
    ")  # outlier labels (0 or 1) and confidence in the range of [0,1]\n"
   ]
  },
  {
   "cell_type": "code",
   "execution_count": null,
   "metadata": {},
   "outputs": [],
   "source": [
    "# evaluate and print the results\n",
    "print(\"\\nOn Training Data:\")\n",
    "evaluate_print(clf_name, y_train, y_train_scores)\n",
    "print(\"\\nOn Test Data:\")\n",
    "evaluate_print(clf_name, y_test, y_test_scores)\n"
   ]
  },
  {
   "cell_type": "code",
   "execution_count": null,
   "metadata": {},
   "outputs": [],
   "source": [
    "visualize(\n",
    "    clf_name,\n",
    "    X_train,\n",
    "    y_train,\n",
    "    X_test,\n",
    "    y_test,\n",
    "    y_train_pred,\n",
    "    y_test_pred,\n",
    "    show_figure=True,\n",
    "    save_figure=False,\n",
    ")\n"
   ]
  },
  {
   "cell_type": "code",
   "execution_count": null,
   "metadata": {},
   "outputs": [],
   "source": [
    "# save the model\n",
    "dump(clf, \"clf.joblib\")\n",
    "# load the model\n",
    "clf = load(\"clf.joblib\")\n"
   ]
  }
 ],
 "metadata": {
  "kernelspec": {
   "display_name": "Python 3 (ipykernel)",
   "language": "python",
   "name": "python3"
  },
  "language_info": {
   "codemirror_mode": {
    "name": "ipython",
    "version": 3
   },
   "file_extension": ".py",
   "mimetype": "text/x-python",
   "name": "python",
   "nbconvert_exporter": "python",
   "pygments_lexer": "ipython3",
   "version": "3.9.6"
  },
  "latex_envs": {
   "LaTeX_envs_menu_present": true,
   "autoclose": false,
   "autocomplete": true,
   "bibliofile": "biblio.bib",
   "cite_by": "apalike",
   "current_citInitial": 1,
   "eqLabelWithNumbers": true,
   "eqNumInitial": 1,
   "hotkeys": {
    "equation": "Ctrl-E",
    "itemize": "Ctrl-I"
   },
   "labels_anchors": false,
   "latex_user_defs": false,
   "report_style_numbering": false,
   "user_envs_cfg": false
  },
  "toc": {
   "base_numbering": 1,
   "nav_menu": {},
   "number_sections": true,
   "sideBar": true,
   "skip_h1_title": false,
   "title_cell": "Table of Contents",
   "title_sidebar": "Contents",
   "toc_cell": false,
   "toc_position": {},
   "toc_section_display": true,
   "toc_window_display": false
  },
  "vscode": {
   "interpreter": {
    "hash": "aee8b7b246df8f9039afb4144a1f6fd8d2ca17a180786b69acc140d282b71a49"
   }
  }
 },
 "nbformat": 4,
 "nbformat_minor": 2
}
