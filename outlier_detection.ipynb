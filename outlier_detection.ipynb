{
 "cells": [
  {
   "cell_type": "code",
   "execution_count": 1,
   "metadata": {
    "ExecuteTime": {
     "end_time": "2022-09-01T11:04:30.938464Z",
     "start_time": "2022-09-01T11:04:26.080697Z"
    }
   },
   "outputs": [],
   "source": [
    "from pyod.models.ecod import ECOD  # ECOD detector\n",
    "from pyod.models.knn import KNN   # kNN detector\n",
    "from joblib import dump, load\n",
    "from pyod.utils.data import evaluate_print\n",
    "from pyod.utils.example import visualize\n",
    "from loader import Loader\n",
    "import os"
   ]
  },
  {
   "cell_type": "markdown",
   "metadata": {},
   "source": [
    "## Data Loading and Pre-Processing"
   ]
  },
  {
   "cell_type": "code",
   "execution_count": 2,
   "metadata": {
    "ExecuteTime": {
     "end_time": "2022-09-01T11:04:33.946076Z",
     "start_time": "2022-09-01T11:04:33.872387Z"
    }
   },
   "outputs": [
    {
     "name": "stderr",
     "output_type": "stream",
     "text": [
      "Loading: 100%|██████████| 449/449 [00:09<00:00, 47.21it/s]\n",
      "Processing: 100%|██████████| 12872/12872 [00:08<00:00, 1570.13it/s]\n"
     ]
    }
   ],
   "source": [
    "loader = Loader()\n",
    "if not os.path.exists(\"data/data.pkl\"):\n",
    "    loader.extract()\n",
    "    df = loader.create_df_from_xlsx()\n",
    "    df = loader.process_df(df)\n",
    "    loader.save_df(df)\n",
    "else:\n",
    "    df = loader.load_df()\n"
   ]
  },
  {
   "cell_type": "code",
   "execution_count": 3,
   "metadata": {
    "ExecuteTime": {
     "end_time": "2022-09-01T11:04:36.897673Z",
     "start_time": "2022-09-01T11:04:36.836630Z"
    },
    "scrolled": true
   },
   "outputs": [
    {
     "name": "stdout",
     "output_type": "stream",
     "text": [
      "(12872, 19)\n",
      "Index(['کد محور', 'مدت زمان کارکرد (دقیقه)', 'تعداد کل وسیله نقلیه',\n",
      "       'تعداد وسیله نقلیه کلاس ۱', 'تعداد وسیله نقلیه کلاس ۲',\n",
      "       'تعداد وسیله نقلیه کلاس ۳', 'تعداد وسیله نقلیه کلاس ۴',\n",
      "       'تعداد وسیله نقلیه کلاس ۵', 'سرعت متوسط', 'تعداد تخلف سرعت غیر مجاز',\n",
      "       'تعداد تخلف فاصله غیر مجاز', 'تعداد تخلف سبقت غیر مجاز',\n",
      "       'تعداد برآورد شده', 'تعداد وسیله نقلیه سبک', 'تعداد وسیله نقلیه سنگین',\n",
      "       'holiday', 'date', 'day_of_week', 'time_start'],\n",
      "      dtype='object')\n",
      "<class 'pandas.core.frame.DataFrame'>\n",
      "Int64Index: 12872 entries, 7285 to 5118\n",
      "Data columns (total 19 columns):\n",
      " #   Column                     Non-Null Count  Dtype  \n",
      "---  ------                     --------------  -----  \n",
      " 0   کد محور                    12872 non-null  int64  \n",
      " 1   مدت زمان کارکرد (دقیقه)    12872 non-null  int64  \n",
      " 2   تعداد کل وسیله نقلیه       12872 non-null  int64  \n",
      " 3   تعداد وسیله نقلیه کلاس ۱   12372 non-null  float64\n",
      " 4   تعداد وسیله نقلیه کلاس ۲   12372 non-null  float64\n",
      " 5   تعداد وسیله نقلیه کلاس ۳   12372 non-null  float64\n",
      " 6   تعداد وسیله نقلیه کلاس ۴   12372 non-null  float64\n",
      " 7   تعداد وسیله نقلیه کلاس ۵   12372 non-null  float64\n",
      " 8   سرعت متوسط                 12872 non-null  float64\n",
      " 9   تعداد تخلف سرعت غیر مجاز   12872 non-null  int64  \n",
      " 10  تعداد تخلف فاصله غیر مجاز  12872 non-null  int64  \n",
      " 11  تعداد تخلف سبقت غیر مجاز   12872 non-null  int64  \n",
      " 12  تعداد برآورد شده           6998 non-null   float64\n",
      " 13  تعداد وسیله نقلیه سبک      500 non-null    float64\n",
      " 14  تعداد وسیله نقلیه سنگین    500 non-null    float64\n",
      " 15  holiday                    12872 non-null  object \n",
      " 16  date                       12872 non-null  object \n",
      " 17  day_of_week                12872 non-null  object \n",
      " 18  time_start                 12872 non-null  object \n",
      "dtypes: float64(9), int64(6), object(4)\n",
      "memory usage: 2.0+ MB\n",
      "None\n"
     ]
    }
   ],
   "source": [
    "print(df.shape)\n",
    "print(df.columns)\n",
    "print(df.info())"
   ]
  },
  {
   "cell_type": "code",
   "execution_count": null,
   "metadata": {
    "ExecuteTime": {
     "end_time": "2022-09-01T11:06:54.648134Z",
     "start_time": "2022-09-01T11:06:54.607862Z"
    }
   },
   "outputs": [],
   "source": [
    "# sfdk: I recommend to use 'تعداد برآورد شده'\n",
    "# sfdk: We can merge 'تعداد وسیله نقلیه سنگین','تعداد وسیله نقلیه سبک' data with new numerical classes\n",
    "df.drop(columns=['تعداد وسیله نقلیه سنگین','تعداد وسیله نقلیه سبک','تعداد برآورد شده']).info()"
   ]
  },
  {
   "cell_type": "code",
   "execution_count": null,
   "metadata": {
    "ExecuteTime": {
     "end_time": "2022-09-01T11:07:30.229596Z",
     "start_time": "2022-09-01T11:07:30.220232Z"
    }
   },
   "outputs": [],
   "source": [
    "df = df.drop(columns=['تعداد وسیله نقلیه سنگین','تعداد وسیله نقلیه سبک','تعداد برآورد شده'])"
   ]
  },
  {
   "cell_type": "code",
   "execution_count": null,
   "metadata": {
    "ExecuteTime": {
     "end_time": "2022-09-01T11:13:02.052631Z",
     "start_time": "2022-09-01T11:13:01.997474Z"
    },
    "scrolled": true
   },
   "outputs": [],
   "source": [
    "df.dropna().info()"
   ]
  },
  {
   "cell_type": "code",
   "execution_count": null,
   "metadata": {
    "ExecuteTime": {
     "end_time": "2022-09-01T11:13:29.931338Z",
     "start_time": "2022-09-01T11:13:29.912433Z"
    }
   },
   "outputs": [],
   "source": [
    "df = df.dropna()"
   ]
  },
  {
   "cell_type": "markdown",
   "metadata": {},
   "source": [
    "## Some Plots"
   ]
  },
  {
   "cell_type": "code",
   "execution_count": null,
   "metadata": {
    "ExecuteTime": {
     "end_time": "2022-09-01T11:15:54.887963Z",
     "start_time": "2022-09-01T11:15:54.878049Z"
    }
   },
   "outputs": [],
   "source": [
    "%matplotlib inline\n",
    "\n",
    "import matplotlib\n",
    "import numpy as np\n",
    "import matplotlib.pyplot as plt"
   ]
  },
  {
   "cell_type": "code",
   "execution_count": 4,
   "metadata": {
    "ExecuteTime": {
     "end_time": "2022-09-01T11:18:49.927385Z",
     "start_time": "2022-09-01T11:18:49.887715Z"
    }
   },
   "outputs": [
    {
     "data": {
      "text/html": [
       "<div>\n",
       "<style scoped>\n",
       "    .dataframe tbody tr th:only-of-type {\n",
       "        vertical-align: middle;\n",
       "    }\n",
       "\n",
       "    .dataframe tbody tr th {\n",
       "        vertical-align: top;\n",
       "    }\n",
       "\n",
       "    .dataframe thead th {\n",
       "        text-align: right;\n",
       "    }\n",
       "</style>\n",
       "<table border=\"1\" class=\"dataframe\">\n",
       "  <thead>\n",
       "    <tr style=\"text-align: right;\">\n",
       "      <th></th>\n",
       "      <th>کد محور</th>\n",
       "      <th>مدت زمان کارکرد (دقیقه)</th>\n",
       "      <th>تعداد کل وسیله نقلیه</th>\n",
       "      <th>تعداد وسیله نقلیه کلاس ۱</th>\n",
       "      <th>تعداد وسیله نقلیه کلاس ۲</th>\n",
       "      <th>تعداد وسیله نقلیه کلاس ۳</th>\n",
       "      <th>تعداد وسیله نقلیه کلاس ۴</th>\n",
       "      <th>تعداد وسیله نقلیه کلاس ۵</th>\n",
       "      <th>سرعت متوسط</th>\n",
       "      <th>تعداد تخلف سرعت غیر مجاز</th>\n",
       "      <th>تعداد تخلف فاصله غیر مجاز</th>\n",
       "      <th>تعداد تخلف سبقت غیر مجاز</th>\n",
       "      <th>تعداد برآورد شده</th>\n",
       "      <th>تعداد وسیله نقلیه سبک</th>\n",
       "      <th>تعداد وسیله نقلیه سنگین</th>\n",
       "      <th>holiday</th>\n",
       "      <th>date</th>\n",
       "      <th>day_of_week</th>\n",
       "      <th>time_start</th>\n",
       "    </tr>\n",
       "  </thead>\n",
       "  <tbody>\n",
       "    <tr>\n",
       "      <th>5149</th>\n",
       "      <td>113474</td>\n",
       "      <td>1370</td>\n",
       "      <td>25340</td>\n",
       "      <td>23255.0</td>\n",
       "      <td>1017.0</td>\n",
       "      <td>676.0</td>\n",
       "      <td>134.0</td>\n",
       "      <td>258.0</td>\n",
       "      <td>71.0</td>\n",
       "      <td>7535</td>\n",
       "      <td>7337</td>\n",
       "      <td>0</td>\n",
       "      <td>27270.0</td>\n",
       "      <td>NaN</td>\n",
       "      <td>NaN</td>\n",
       "      <td>False</td>\n",
       "      <td>1401-01-31</td>\n",
       "      <td>4</td>\n",
       "      <td>00:00:00</td>\n",
       "    </tr>\n",
       "    <tr>\n",
       "      <th>4350</th>\n",
       "      <td>113353</td>\n",
       "      <td>1265</td>\n",
       "      <td>27632</td>\n",
       "      <td>25861.0</td>\n",
       "      <td>843.0</td>\n",
       "      <td>271.0</td>\n",
       "      <td>70.0</td>\n",
       "      <td>587.0</td>\n",
       "      <td>65.0</td>\n",
       "      <td>1138</td>\n",
       "      <td>5804</td>\n",
       "      <td>0</td>\n",
       "      <td>34357.0</td>\n",
       "      <td>NaN</td>\n",
       "      <td>NaN</td>\n",
       "      <td>False</td>\n",
       "      <td>1401-01-31</td>\n",
       "      <td>4</td>\n",
       "      <td>00:00:00</td>\n",
       "    </tr>\n",
       "    <tr>\n",
       "      <th>5180</th>\n",
       "      <td>113478</td>\n",
       "      <td>1440</td>\n",
       "      <td>39026</td>\n",
       "      <td>33656.0</td>\n",
       "      <td>2728.0</td>\n",
       "      <td>1227.0</td>\n",
       "      <td>416.0</td>\n",
       "      <td>999.0</td>\n",
       "      <td>73.0</td>\n",
       "      <td>509</td>\n",
       "      <td>5255</td>\n",
       "      <td>0</td>\n",
       "      <td>39026.0</td>\n",
       "      <td>NaN</td>\n",
       "      <td>NaN</td>\n",
       "      <td>False</td>\n",
       "      <td>1401-01-31</td>\n",
       "      <td>4</td>\n",
       "      <td>00:00:00</td>\n",
       "    </tr>\n",
       "    <tr>\n",
       "      <th>4376</th>\n",
       "      <td>113391</td>\n",
       "      <td>1440</td>\n",
       "      <td>7352</td>\n",
       "      <td>6803.0</td>\n",
       "      <td>166.0</td>\n",
       "      <td>89.0</td>\n",
       "      <td>135.0</td>\n",
       "      <td>159.0</td>\n",
       "      <td>76.0</td>\n",
       "      <td>0</td>\n",
       "      <td>0</td>\n",
       "      <td>0</td>\n",
       "      <td>7352.0</td>\n",
       "      <td>NaN</td>\n",
       "      <td>NaN</td>\n",
       "      <td>False</td>\n",
       "      <td>1401-01-31</td>\n",
       "      <td>4</td>\n",
       "      <td>00:00:00</td>\n",
       "    </tr>\n",
       "    <tr>\n",
       "      <th>5118</th>\n",
       "      <td>113469</td>\n",
       "      <td>1435</td>\n",
       "      <td>27239</td>\n",
       "      <td>25437.0</td>\n",
       "      <td>721.0</td>\n",
       "      <td>308.0</td>\n",
       "      <td>77.0</td>\n",
       "      <td>696.0</td>\n",
       "      <td>71.0</td>\n",
       "      <td>471</td>\n",
       "      <td>1901</td>\n",
       "      <td>0</td>\n",
       "      <td>27335.0</td>\n",
       "      <td>NaN</td>\n",
       "      <td>NaN</td>\n",
       "      <td>False</td>\n",
       "      <td>1401-01-31</td>\n",
       "      <td>4</td>\n",
       "      <td>00:00:00</td>\n",
       "    </tr>\n",
       "  </tbody>\n",
       "</table>\n",
       "</div>"
      ],
      "text/plain": [
       "      کد محور  مدت زمان کارکرد (دقیقه)  تعداد کل وسیله نقلیه  \\\n",
       "5149   113474                     1370                 25340   \n",
       "4350   113353                     1265                 27632   \n",
       "5180   113478                     1440                 39026   \n",
       "4376   113391                     1440                  7352   \n",
       "5118   113469                     1435                 27239   \n",
       "\n",
       "      تعداد وسیله نقلیه کلاس ۱  تعداد وسیله نقلیه کلاس ۲  \\\n",
       "5149                   23255.0                    1017.0   \n",
       "4350                   25861.0                     843.0   \n",
       "5180                   33656.0                    2728.0   \n",
       "4376                    6803.0                     166.0   \n",
       "5118                   25437.0                     721.0   \n",
       "\n",
       "      تعداد وسیله نقلیه کلاس ۳  تعداد وسیله نقلیه کلاس ۴  \\\n",
       "5149                     676.0                     134.0   \n",
       "4350                     271.0                      70.0   \n",
       "5180                    1227.0                     416.0   \n",
       "4376                      89.0                     135.0   \n",
       "5118                     308.0                      77.0   \n",
       "\n",
       "      تعداد وسیله نقلیه کلاس ۵  سرعت متوسط  تعداد تخلف سرعت غیر مجاز  \\\n",
       "5149                     258.0        71.0                      7535   \n",
       "4350                     587.0        65.0                      1138   \n",
       "5180                     999.0        73.0                       509   \n",
       "4376                     159.0        76.0                         0   \n",
       "5118                     696.0        71.0                       471   \n",
       "\n",
       "      تعداد تخلف فاصله غیر مجاز  تعداد تخلف سبقت غیر مجاز  تعداد برآورد شده  \\\n",
       "5149                       7337                         0           27270.0   \n",
       "4350                       5804                         0           34357.0   \n",
       "5180                       5255                         0           39026.0   \n",
       "4376                          0                         0            7352.0   \n",
       "5118                       1901                         0           27335.0   \n",
       "\n",
       "      تعداد وسیله نقلیه سبک  تعداد وسیله نقلیه سنگین holiday        date  \\\n",
       "5149                    NaN                      NaN   False  1401-01-31   \n",
       "4350                    NaN                      NaN   False  1401-01-31   \n",
       "5180                    NaN                      NaN   False  1401-01-31   \n",
       "4376                    NaN                      NaN   False  1401-01-31   \n",
       "5118                    NaN                      NaN   False  1401-01-31   \n",
       "\n",
       "     day_of_week time_start  \n",
       "5149           4   00:00:00  \n",
       "4350           4   00:00:00  \n",
       "5180           4   00:00:00  \n",
       "4376           4   00:00:00  \n",
       "5118           4   00:00:00  "
      ]
     },
     "execution_count": 4,
     "metadata": {},
     "output_type": "execute_result"
    }
   ],
   "source": [
    "df.tail()"
   ]
  },
  {
   "cell_type": "code",
   "execution_count": null,
   "metadata": {
    "ExecuteTime": {
     "end_time": "2022-09-01T11:19:08.674790Z",
     "start_time": "2022-09-01T11:19:08.642045Z"
    }
   },
   "outputs": [],
   "source": [
    "df.info()"
   ]
  },
  {
   "cell_type": "code",
   "execution_count": 5,
   "metadata": {
    "ExecuteTime": {
     "end_time": "2022-09-01T11:24:37.209825Z",
     "start_time": "2022-09-01T11:24:37.038414Z"
    }
   },
   "outputs": [
    {
     "data": {
      "text/plain": [
       "date      \n",
       "1401-01-01    122\n",
       "1401-01-02    122\n",
       "1401-01-03    122\n",
       "1401-01-04    122\n",
       "1401-01-07    122\n",
       "             ... \n",
       "1391-01-16      6\n",
       "1391-01-01      6\n",
       "1391-01-15      6\n",
       "1391-01-14      6\n",
       "1391-01-02      6\n",
       "Length: 248, dtype: int64"
      ]
     },
     "execution_count": 5,
     "metadata": {},
     "output_type": "execute_result"
    }
   ],
   "source": [
    "df[['date']].value_counts()"
   ]
  },
  {
   "cell_type": "code",
   "execution_count": null,
   "metadata": {
    "ExecuteTime": {
     "end_time": "2022-09-01T11:29:30.392495Z",
     "start_time": "2022-09-01T11:29:30.383146Z"
    }
   },
   "outputs": [],
   "source": [
    "df.columns"
   ]
  },
  {
   "cell_type": "code",
   "execution_count": null,
   "metadata": {
    "ExecuteTime": {
     "end_time": "2022-09-01T11:35:20.757832Z",
     "start_time": "2022-09-01T11:35:20.608137Z"
    }
   },
   "outputs": [],
   "source": [
    "per_code_dfs = {}\n",
    "for code in df['کد محور'].unique():\n",
    "    per_code_dfs[code] = df[df['کد محور']==code]"
   ]
  },
  {
   "cell_type": "code",
   "execution_count": null,
   "metadata": {
    "ExecuteTime": {
     "end_time": "2022-09-01T11:35:27.039626Z",
     "start_time": "2022-09-01T11:35:27.030660Z"
    }
   },
   "outputs": [],
   "source": [
    "per_code_dfs.keys()"
   ]
  },
  {
   "cell_type": "code",
   "execution_count": null,
   "metadata": {
    "ExecuteTime": {
     "end_time": "2022-09-01T11:35:43.833508Z",
     "start_time": "2022-09-01T11:35:43.812348Z"
    }
   },
   "outputs": [],
   "source": [
    "per_code_dfs[113401].info()"
   ]
  },
  {
   "cell_type": "code",
   "execution_count": null,
   "metadata": {
    "ExecuteTime": {
     "end_time": "2022-09-01T11:36:44.888696Z",
     "start_time": "2022-09-01T11:36:44.877944Z"
    }
   },
   "outputs": [],
   "source": [
    "per_code_dfs[113401]['date'].unique()"
   ]
  },
  {
   "cell_type": "code",
   "execution_count": null,
   "metadata": {},
   "outputs": [],
   "source": []
  },
  {
   "cell_type": "markdown",
   "metadata": {},
   "source": [
    "## Other :)"
   ]
  },
  {
   "cell_type": "code",
   "execution_count": null,
   "metadata": {},
   "outputs": [],
   "source": []
  },
  {
   "cell_type": "code",
   "execution_count": null,
   "metadata": {},
   "outputs": [],
   "source": [
    "roads = loader.get_roads()\n",
    "print(list(roads.values())[:5])\n",
    "print(len(roads))"
   ]
  },
  {
   "cell_type": "code",
   "execution_count": null,
   "metadata": {
    "ExecuteTime": {
     "end_time": "2022-09-01T11:04:30.979645Z",
     "start_time": "2022-09-01T11:04:30.963959Z"
    }
   },
   "outputs": [],
   "source": [
    "clf_name = \"KNN\"\n",
    "# clf = ECOD()\n",
    "clf = KNN()\n"
   ]
  },
  {
   "cell_type": "code",
   "execution_count": null,
   "metadata": {},
   "outputs": [],
   "source": [
    "# TODO\n",
    "X_train = []"
   ]
  },
  {
   "cell_type": "code",
   "execution_count": null,
   "metadata": {},
   "outputs": [],
   "source": [
    "clf.fit(X_train)\n",
    "\n",
    "# get the prediction label and outlier scores of the training data\n",
    "y_train_pred = clf.labels_  # binary labels (0: inliers, 1: outliers)\n",
    "y_train_scores = clf.decision_scores_  # raw outlier scores\n",
    "\n",
    "# get the prediction on the test data\n",
    "y_test_pred = clf.predict(X_test)  # outlier labels (0 or 1)\n",
    "y_test_scores = clf.decision_function(X_test)  # outlier scores\n",
    "\n",
    "# it is possible to get the prediction confidence as well\n",
    "y_test_pred, y_test_pred_confidence = clf.predict(\n",
    "    X_test, return_confidence=True\n",
    ")  # outlier labels (0 or 1) and confidence in the range of [0,1]\n"
   ]
  },
  {
   "cell_type": "code",
   "execution_count": null,
   "metadata": {},
   "outputs": [],
   "source": [
    "# evaluate and print the results\n",
    "print(\"\\nOn Training Data:\")\n",
    "evaluate_print(clf_name, y_train, y_train_scores)\n",
    "print(\"\\nOn Test Data:\")\n",
    "evaluate_print(clf_name, y_test, y_test_scores)\n"
   ]
  },
  {
   "cell_type": "code",
   "execution_count": null,
   "metadata": {},
   "outputs": [],
   "source": [
    "visualize(\n",
    "    clf_name,\n",
    "    X_train,\n",
    "    y_train,\n",
    "    X_test,\n",
    "    y_test,\n",
    "    y_train_pred,\n",
    "    y_test_pred,\n",
    "    show_figure=True,\n",
    "    save_figure=False,\n",
    ")\n"
   ]
  },
  {
   "cell_type": "code",
   "execution_count": null,
   "metadata": {},
   "outputs": [],
   "source": [
    "# save the model\n",
    "dump(clf, \"clf.joblib\")\n",
    "# load the model\n",
    "clf = load(\"clf.joblib\")\n"
   ]
  }
 ],
 "metadata": {
  "kernelspec": {
   "display_name": "Python 3.8.8 64-bit",
   "language": "python",
   "name": "python3"
  },
  "language_info": {
   "codemirror_mode": {
    "name": "ipython",
    "version": 3
   },
   "file_extension": ".py",
   "mimetype": "text/x-python",
   "name": "python",
   "nbconvert_exporter": "python",
   "pygments_lexer": "ipython3",
   "version": "3.8.8"
  },
  "latex_envs": {
   "LaTeX_envs_menu_present": true,
   "autoclose": false,
   "autocomplete": true,
   "bibliofile": "biblio.bib",
   "cite_by": "apalike",
   "current_citInitial": 1,
   "eqLabelWithNumbers": true,
   "eqNumInitial": 1,
   "hotkeys": {
    "equation": "Ctrl-E",
    "itemize": "Ctrl-I"
   },
   "labels_anchors": false,
   "latex_user_defs": false,
   "report_style_numbering": false,
   "user_envs_cfg": false
  },
  "toc": {
   "base_numbering": 1,
   "nav_menu": {},
   "number_sections": true,
   "sideBar": true,
   "skip_h1_title": false,
   "title_cell": "Table of Contents",
   "title_sidebar": "Contents",
   "toc_cell": false,
   "toc_position": {},
   "toc_section_display": true,
   "toc_window_display": false
  },
  "vscode": {
   "interpreter": {
    "hash": "7f5bc9e053b28279d0d56556acaaf242d1a3ea6f9a17ae911dffa14eefbc7dff"
   }
  }
 },
 "nbformat": 4,
 "nbformat_minor": 2
}
