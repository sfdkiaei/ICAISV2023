{
 "cells": [
  {
   "cell_type": "code",
   "execution_count": 1,
   "metadata": {},
   "outputs": [],
   "source": [
    "from pyod.models.ecod import ECOD  # ECOD detector\n",
    "from pyod.models.knn import KNN   # kNN detector\n",
    "from joblib import dump, load\n",
    "from pyod.utils.data import evaluate_print\n",
    "from pyod.utils.example import visualize\n",
    "from loader import Loader\n",
    "import os"
   ]
  },
  {
   "cell_type": "code",
   "execution_count": 2,
   "metadata": {},
   "outputs": [],
   "source": [
    "clf_name = 'KNN'\n",
    "# clf = ECOD()\n",
    "clf = KNN()"
   ]
  },
  {
   "cell_type": "code",
   "execution_count": 4,
   "metadata": {},
   "outputs": [
    {
     "name": "stderr",
     "output_type": "stream",
     "text": [
      "100%|██████████| 449/449 [01:31<00:00,  4.91it/s]\n"
     ]
    }
   ],
   "source": [
    "loader = Loader()\n",
    "if not os.path.exists('data/data.pkl'):\n",
    "    df = loader.create_df_from_xlsx()\n",
    "    loader.save_df(df)\n",
    "else:\n",
    "    df = loader.load_df()"
   ]
  },
  {
   "cell_type": "code",
   "execution_count": 5,
   "metadata": {},
   "outputs": [
    {
     "name": "stdout",
     "output_type": "stream",
     "text": [
      "(298263, 22)\n",
      "Index(['کد محور', 'نام محور', 'زمان شروع', 'زمان پایان',\n",
      "       'مدت زمان کارکرد (دقیقه)', 'تعداد کل وسیله نقلیه',\n",
      "       'تعداد وسیله نقلیه کلاس 1', 'تعداد وسیله نقلیه کلاس 2',\n",
      "       'تعداد وسیله نقلیه کلاس 3', 'تعداد وسیله نقلیه کلاس 4',\n",
      "       'تعداد وسیله نقلیه کلاس 5', 'سرعت متوسط', 'تعداد تخلف سرعت غیر مجاز',\n",
      "       'تعداد تخلف فاصله غیر مجاز', 'تعداد تخلف سبقت غیر مجاز',\n",
      "       'تعداد برآورد شده', 'مدت زمان کارکرد(دقیقه)', 'تعداد وسیله نقلیه سبک',\n",
      "       'تعداد وسیله نقلیه سنگین', 'تعداد تخلف سرعت غیرمجاز',\n",
      "       'تعداد تخلف فاصله غیرمجاز', 'تعداد تخلف سبقت غیرمجاز'],\n",
      "      dtype='object')\n"
     ]
    }
   ],
   "source": [
    "print(df.shape)\n",
    "print(df.columns)"
   ]
  },
  {
   "cell_type": "code",
   "execution_count": null,
   "metadata": {},
   "outputs": [],
   "source": [
    "clf.fit(X_train)\n",
    "\n",
    "# get the prediction label and outlier scores of the training data\n",
    "y_train_pred = clf.labels_  # binary labels (0: inliers, 1: outliers)\n",
    "y_train_scores = clf.decision_scores_  # raw outlier scores\n",
    "\n",
    "# get the prediction on the test data\n",
    "y_test_pred = clf.predict(X_test)  # outlier labels (0 or 1)\n",
    "y_test_scores = clf.decision_function(X_test)  # outlier scores\n",
    "\n",
    "# it is possible to get the prediction confidence as well\n",
    "y_test_pred, y_test_pred_confidence = clf.predict(X_test, return_confidence=True)  # outlier labels (0 or 1) and confidence in the range of [0,1]"
   ]
  },
  {
   "cell_type": "code",
   "execution_count": null,
   "metadata": {},
   "outputs": [],
   "source": [
    "# evaluate and print the results\n",
    "print(\"\\nOn Training Data:\")\n",
    "evaluate_print(clf_name, y_train, y_train_scores)\n",
    "print(\"\\nOn Test Data:\")\n",
    "evaluate_print(clf_name, y_test, y_test_scores)"
   ]
  },
  {
   "cell_type": "code",
   "execution_count": null,
   "metadata": {},
   "outputs": [],
   "source": [
    "visualize(clf_name, X_train, y_train, X_test, y_test, y_train_pred,\n",
    "    y_test_pred, show_figure=True, save_figure=False)"
   ]
  },
  {
   "cell_type": "code",
   "execution_count": null,
   "metadata": {},
   "outputs": [],
   "source": [
    "# save the model\n",
    "dump(clf, 'clf.joblib')\n",
    "# load the model\n",
    "clf = load('clf.joblib')"
   ]
  }
 ],
 "metadata": {
  "kernelspec": {
   "display_name": "Python 3.8.8 64-bit",
   "language": "python",
   "name": "python3"
  },
  "language_info": {
   "codemirror_mode": {
    "name": "ipython",
    "version": 3
   },
   "file_extension": ".py",
   "mimetype": "text/x-python",
   "name": "python",
   "nbconvert_exporter": "python",
   "pygments_lexer": "ipython3",
   "version": "3.8.8"
  },
  "orig_nbformat": 4,
  "vscode": {
   "interpreter": {
    "hash": "7f5bc9e053b28279d0d56556acaaf242d1a3ea6f9a17ae911dffa14eefbc7dff"
   }
  }
 },
 "nbformat": 4,
 "nbformat_minor": 2
}
